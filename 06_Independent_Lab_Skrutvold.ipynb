{
 "cells": [
  {
   "cell_type": "markdown",
   "id": "fb7fa209-5dd1-4f7c-bca0-9bf6c07da133",
   "metadata": {},
   "source": [
    "# Week 6 Independent Lab: Student Management System \n",
    "Author: Aerionna Skrutvold\n",
    "Course: BGEN632 Grad. Intro to Python Date: April 1, 2025\n",
    "\n",
    "This notebook contains code for a student management system. "
   ]
  },
  {
   "cell_type": "markdown",
   "id": "07bf3dc2-4569-42f0-ba34-4834caa088d4",
   "metadata": {},
   "source": [
    "## Creating each list"
   ]
  },
  {
   "cell_type": "code",
   "execution_count": 1,
   "id": "98ad6c4b-dddb-4621-adad-379ee2a0ebe0",
   "metadata": {},
   "outputs": [],
   "source": [
    "# Creating a list for violations\n",
    "violations = [\"Copying Homework\", \"Cheating on Exam\", \"Plagiarism\", \"Cheating on Quiz\", \"Writing Paper for Another Student\"]\n",
    "    \n",
    "# Creating a dictionary for each student \n",
    "Carmen_B = {\n",
    "  \"first_name\": \"Carmen\",\n",
    "  \"last_name\": \"Berzatto\",\n",
    "  \"major\": \"Computer Science\",\n",
    "  \"gpa\": 3.7,\n",
    "  \"violation\": None\n",
    "}\n",
    "\n",
    "Sydney_A = {\n",
    "  \"first_name\": \"Sydney\",\n",
    "  \"last_name\": \"Adamu\",\n",
    "  \"major\": \"Business\",\n",
    "  \"gpa\": 2.8,\n",
    "  \"violation\": None\n",
    "}\n",
    "\n",
    "Neil_F = {\n",
    "  \"first_name\": \"Neil\",\n",
    "  \"last_name\": \"Fak\",\n",
    "  \"major\": \"Communications\",\n",
    "  \"gpa\": 3.2,\n",
    "  \"violation\": None\n",
    "}\n",
    "\n",
    "Marcus_B = {\n",
    "  \"first_name\": \"Marcus\",\n",
    "  \"last_name\": \"Brooks\",\n",
    "  \"major\": \"Accounting\",\n",
    "  \"gpa\": 3.5,\n",
    "  \"violation\": None\n",
    "}\n",
    "\n",
    "student_information = [Carmen_B, Sydney_A, Neil_F, Marcus_B]"
   ]
  },
  {
   "cell_type": "markdown",
   "id": "855ecf0b-ed88-4c30-a503-aeeb6b4ad78c",
   "metadata": {},
   "source": [
    "## Begin System User Interface "
   ]
  },
  {
   "cell_type": "code",
   "execution_count": 2,
   "id": "c0002297-42a1-498b-bc9e-474e60b518f2",
   "metadata": {},
   "outputs": [
    {
     "name": "stdout",
     "output_type": "stream",
     "text": [
      "Welcome to your student information system manager.\n",
      "Please select your menu option.\n",
      "1:Student Information Query\n",
      "2:Student Information Entry\n",
      "3:Query GPA Metrics\n",
      "4:Academic Violations\n",
      "5:Quit Menu\n"
     ]
    },
    {
     "name": "stdin",
     "output_type": "stream",
     "text": [
      "\n",
      "Select where you'd like to navigate in the program(1, 2, 3, 4, or 5): 3\n"
     ]
    },
    {
     "name": "stdout",
     "output_type": "stream",
     "text": [
      "Minimun GPA: 2.8\n",
      "Maximum GPA: 3.7\n",
      "Average GPA: 3.3\n",
      "Please select your menu option.\n",
      "1:Student Information Query\n",
      "2:Student Information Entry\n",
      "3:Query GPA Metrics\n",
      "4:Academic Violations\n",
      "5:Quit Menu\n"
     ]
    },
    {
     "name": "stdin",
     "output_type": "stream",
     "text": [
      "\n",
      "Select where you'd like to navigate in the program(1, 2, 3, 4, or 5): 2\n",
      "Please input the students first name Deborah\n",
      "Please input the students last name King\n",
      "Please input the students major Biology\n",
      "Please input the students gpa 4.0\n"
     ]
    },
    {
     "name": "stdout",
     "output_type": "stream",
     "text": [
      "Please select your menu option.\n",
      "1:Student Information Query\n",
      "2:Student Information Entry\n",
      "3:Query GPA Metrics\n",
      "4:Academic Violations\n",
      "5:Quit Menu\n"
     ]
    },
    {
     "name": "stdin",
     "output_type": "stream",
     "text": [
      "\n",
      "Select where you'd like to navigate in the program(1, 2, 3, 4, or 5): 2\n",
      "Please input the students first name Liam\n",
      "Please input the students last name Knight\n",
      "Please input the students major Art\n",
      "Please input the students gpa 2.0\n"
     ]
    },
    {
     "name": "stdout",
     "output_type": "stream",
     "text": [
      "Please select your menu option.\n",
      "1:Student Information Query\n",
      "2:Student Information Entry\n",
      "3:Query GPA Metrics\n",
      "4:Academic Violations\n",
      "5:Quit Menu\n"
     ]
    },
    {
     "name": "stdin",
     "output_type": "stream",
     "text": [
      "\n",
      "Select where you'd like to navigate in the program(1, 2, 3, 4, or 5): 1\n"
     ]
    },
    {
     "name": "stdout",
     "output_type": "stream",
     "text": [
      "Carmen Berzatto\n",
      "Sydney Adamu\n",
      "Neil Fak\n",
      "Marcus Brooks\n",
      "Deborah King\n",
      "Liam Knight\n",
      "Please select your menu option.\n",
      "1:Student Information Query\n",
      "2:Student Information Entry\n",
      "3:Query GPA Metrics\n",
      "4:Academic Violations\n",
      "5:Quit Menu\n"
     ]
    },
    {
     "name": "stdin",
     "output_type": "stream",
     "text": [
      "\n",
      "Select where you'd like to navigate in the program(1, 2, 3, 4, or 5): 3\n"
     ]
    },
    {
     "name": "stdout",
     "output_type": "stream",
     "text": [
      "Minimun GPA: 2.0\n",
      "Maximum GPA: 4.0\n",
      "Average GPA: 3.1999999999999997\n",
      "Please select your menu option.\n",
      "1:Student Information Query\n",
      "2:Student Information Entry\n",
      "3:Query GPA Metrics\n",
      "4:Academic Violations\n",
      "5:Quit Menu\n"
     ]
    },
    {
     "name": "stdin",
     "output_type": "stream",
     "text": [
      "\n",
      "Select where you'd like to navigate in the program(1, 2, 3, 4, or 5): 4\n"
     ]
    },
    {
     "name": "stdout",
     "output_type": "stream",
     "text": [
      "Student ID 0: Carmen Berzatto\n",
      "Student ID 1: Sydney Adamu\n",
      "Student ID 2: Neil Fak\n",
      "Student ID 3: Marcus Brooks\n",
      "Student ID 4: Deborah King\n",
      "Student ID 5: Liam Knight\n"
     ]
    },
    {
     "name": "stdin",
     "output_type": "stream",
     "text": [
      "Please input the student ID:  5\n"
     ]
    },
    {
     "name": "stdout",
     "output_type": "stream",
     "text": [
      "\n",
      "Violation ID 0: Copying Homework\n",
      "Violation ID 1: Cheating on Exam\n",
      "Violation ID 2: Plagiarism\n",
      "Violation ID 3: Cheating on Quiz\n",
      "Violation ID 4: Writing Paper for Another Student\n"
     ]
    },
    {
     "name": "stdin",
     "output_type": "stream",
     "text": [
      "Please input the violation ID:  0\n"
     ]
    },
    {
     "name": "stdout",
     "output_type": "stream",
     "text": [
      "\n",
      "You have added Copying Homework to Liam Knight.\n",
      "Please select your menu option.\n",
      "1:Student Information Query\n",
      "2:Student Information Entry\n",
      "3:Query GPA Metrics\n",
      "4:Academic Violations\n",
      "5:Quit Menu\n"
     ]
    },
    {
     "name": "stdin",
     "output_type": "stream",
     "text": [
      "\n",
      "Select where you'd like to navigate in the program(1, 2, 3, 4, or 5): 4\n"
     ]
    },
    {
     "name": "stdout",
     "output_type": "stream",
     "text": [
      "Student ID 0: Carmen Berzatto\n",
      "Student ID 1: Sydney Adamu\n",
      "Student ID 2: Neil Fak\n",
      "Student ID 3: Marcus Brooks\n",
      "Student ID 4: Deborah King\n",
      "Student ID 5: Liam Knight\n"
     ]
    },
    {
     "name": "stdin",
     "output_type": "stream",
     "text": [
      "Please input the student ID:  1\n"
     ]
    },
    {
     "name": "stdout",
     "output_type": "stream",
     "text": [
      "\n",
      "Violation ID 0: Copying Homework\n",
      "Violation ID 1: Cheating on Exam\n",
      "Violation ID 2: Plagiarism\n",
      "Violation ID 3: Cheating on Quiz\n",
      "Violation ID 4: Writing Paper for Another Student\n"
     ]
    },
    {
     "name": "stdin",
     "output_type": "stream",
     "text": [
      "Please input the violation ID:  2\n"
     ]
    },
    {
     "name": "stdout",
     "output_type": "stream",
     "text": [
      "\n",
      "You have added Plagiarism to Sydney Adamu.\n",
      "Please select your menu option.\n",
      "1:Student Information Query\n",
      "2:Student Information Entry\n",
      "3:Query GPA Metrics\n",
      "4:Academic Violations\n",
      "5:Quit Menu\n"
     ]
    },
    {
     "name": "stdin",
     "output_type": "stream",
     "text": [
      "\n",
      "Select where you'd like to navigate in the program(1, 2, 3, 4, or 5): 5\n"
     ]
    },
    {
     "name": "stdout",
     "output_type": "stream",
     "text": [
      "Thank you for utilizing your student information system manager.\n"
     ]
    }
   ],
   "source": [
    "#### Welcome message\n",
    "print(\"Welcome to your student information system manager.\")\n",
    "\n",
    "option_1 = \"Student Information Query\"\n",
    "option_2 = \"Student Information Entry\"\n",
    "option_3 = \"Query GPA Metrics\"\n",
    "option_4 = \"Academic Violations\" \n",
    "option_5 = \"Quit Menu\" \n",
    "\n",
    "# Infinite loop for using system until quit menu is selected\n",
    "quit_menu = False\n",
    "\n",
    "while not quit_menu:\n",
    "    print(\"Please select your menu option.\") # Display question each time through loop \n",
    "    print(f\"1:{option_1}\")\n",
    "    print(f\"2:{option_2}\")\n",
    "    print(f\"3:{option_3}\")\n",
    "    print(f\"4:{option_4}\")\n",
    "    print(f\"5:{option_5}\")\n",
    "\n",
    "    # Let user navigate the menu\n",
    "    user_input = input(\"\\nSelect where you'd like to navigate in the program(1, 2, 3, 4, or 5):\")\n",
    "\n",
    "    if user_input == \"1\": # Option 1, The user can query the system for a list of all the students in the system.\n",
    "        for s in student_information:\n",
    "            print(s[\"first_name\"] + \" \" + s[\"last_name\"])\n",
    "\n",
    "    elif user_input == \"2\": # Option 2, the user can create a new student record. \n",
    "        first = input(\"Please input the students first name\")\n",
    "        last = input(\"Please input the students last name\")\n",
    "        major = input(\"Please input the students major\")\n",
    "        gpa = float(input(\"Please input the students gpa\"))\n",
    "        new_student = { \n",
    "              \"first_name\": first,\n",
    "              \"last_name\": last,\n",
    "              \"major\": major,\n",
    "              \"gpa\": gpa,\n",
    "              \"violation\": None \n",
    "              }\n",
    "        student_information.append(new_student)\n",
    "\n",
    "    elif user_input == \"3\": # Option 3, The user can query the data for the following: *max* GPA, *min* GPA, *average* GPA.\n",
    "        gpa_values = []\n",
    "        for s in student_information:\n",
    "            gpa_values.append(s[\"gpa\"])\n",
    "\n",
    "        print(f\"Minimun GPA: {min(gpa_values)}\")\n",
    "        print(f\"Maximum GPA: {max(gpa_values)}\")\n",
    "        print(f\"Average GPA: {sum(gpa_values)/len(gpa_values)}\")  \n",
    "\n",
    "    elif user_input == \"4\": # Option 4, The user can add an academic violation to student. \n",
    "        for index, s in enumerate(student_information):\n",
    "            print(f\"Student ID {index}: {s[\"first_name\"] + \" \" + s[\"last_name\"]}\")\n",
    "        selected_index = int(input(\"Please input the student ID: \"))\n",
    "        selected_student = student_information[selected_index]\n",
    "        print() \n",
    "        for index, v in enumerate(violations):\n",
    "            print(f\"Violation ID {index}: {v}\")\n",
    "        violation_index = int(input(\"Please input the violation ID: \"))\n",
    "        selected_student[\"violation\"] = violations[violation_index]\n",
    "        print() \n",
    "        print(f\"You have added {violations[violation_index]} to {selected_student['first_name']} {selected_student['last_name']}.\")\n",
    "\n",
    "    \n",
    "    elif user_input == \"5\": # Option 5, The user can quit the program. \n",
    "        print(f\"Thank you for utilizing your student information system manager.\")\n",
    "        quit_menu = True \n",
    "\n",
    "    else:\n",
    "        print(\"Invalid option. Please enter 1, 2, 3, 4, or 5.\")"
   ]
  },
  {
   "cell_type": "code",
   "execution_count": null,
   "id": "45901aba-1011-4e63-9fa2-1fdab6ca9522",
   "metadata": {},
   "outputs": [],
   "source": []
  },
  {
   "cell_type": "markdown",
   "id": "1a6837ac-374d-4d63-9ea3-4e68030a9091",
   "metadata": {},
   "source": [
    "## References"
   ]
  },
  {
   "cell_type": "markdown",
   "id": "7f701722-3252-4e8e-826a-333b95db8cc6",
   "metadata": {},
   "source": [
    "### ChatGPT  \n",
    "https://chatgpt.com/share/67eed53c-3cd0-8012-a69c-7ebdbd3cc1bb\n",
    ">>> In this project, AI helped me understand how to structure a student management system using a list of dictionaries. I learned how to use enumerate() to display indexed menu options for selecting students and violations, \n",
    "how to gather user input and convert it for indexing, and how to dynamically update dictionary values (like assigning a violation to a student). "
   ]
  },
  {
   "cell_type": "code",
   "execution_count": null,
   "id": "15ca7875-dd6f-4e9e-9da6-04d66cb0d47b",
   "metadata": {},
   "outputs": [],
   "source": []
  }
 ],
 "metadata": {
  "kernelspec": {
   "display_name": "Python 3 (ipykernel)",
   "language": "python",
   "name": "python3"
  },
  "language_info": {
   "codemirror_mode": {
    "name": "ipython",
    "version": 3
   },
   "file_extension": ".py",
   "mimetype": "text/x-python",
   "name": "python",
   "nbconvert_exporter": "python",
   "pygments_lexer": "ipython3",
   "version": "3.12.7"
  }
 },
 "nbformat": 4,
 "nbformat_minor": 5
}
