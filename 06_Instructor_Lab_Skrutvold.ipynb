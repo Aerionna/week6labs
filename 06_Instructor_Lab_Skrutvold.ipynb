{
 "cells": [
  {
   "cell_type": "markdown",
   "id": "4e398abf-fdff-4d94-9187-bc5021f4fcdc",
   "metadata": {},
   "source": [
    "# Week 6 Instructor-leb Lab: Magic Crystal Ball\n",
    "\n",
    "Author: Aerionna Skrutvold   \n",
    "Course: BGEN632 Grad. Intro to Python\n",
    "Date: April 1, 2025\n",
    "\n",
    "This notebook contains code for a \"magic crystal ball.\" "
   ]
  },
  {
   "cell_type": "markdown",
   "id": "15a726ff-a925-4b69-b22f-74f5d82e11ca",
   "metadata": {},
   "source": [
    "## Import Modules"
   ]
  },
  {
   "cell_type": "code",
   "execution_count": 4,
   "id": "7e1fa1db-9f28-42c1-85b5-e76b870eb7f2",
   "metadata": {},
   "outputs": [],
   "source": [
    "import random as rand"
   ]
  },
  {
   "cell_type": "markdown",
   "id": "059ef4a2-c264-4dc2-8e58-cd1debfe1e03",
   "metadata": {},
   "source": [
    "## Create Variables"
   ]
  },
  {
   "cell_type": "code",
   "execution_count": 2,
   "id": "ae6abf29-21ae-4e7e-abe6-2c8c7a176b1a",
   "metadata": {},
   "outputs": [],
   "source": [
    "fortune_responses = [\"It is certain\",\n",
    "                     \"It is decidedly so\",\n",
    "                     \"That question requires greater monetary compensation\",\n",
    "                     \"Reply is hazy; try again, with more money\",\n",
    "                     \"Concentrate and ask again\",\n",
    "                     \"My reply is no\",\n",
    "                     \"Outlook is not so good\",\n",
    "                     \"Very doubtful\",\n",
    "                     \"Look inside yourself for this answer\",\n",
    "                     \"Someone close to you holds this secret\",\n",
    "                     \"I am just a computer and cannot decide these things\"]\n",
    "\n",
    "question_asked = False # keeps track of whether a question has been asked \n",
    "service_cost = 0.0 # keeps track of service cost \n",
    "\n",
    "questions = [] # the questions asked by the customer \n",
    "responses = [] # the responses provided to the customer"
   ]
  },
  {
   "cell_type": "markdown",
   "id": "a541657e-53d1-4ee0-8883-0d7eaf553406",
   "metadata": {},
   "source": [
    "## Create Nested Loop"
   ]
  },
  {
   "cell_type": "code",
   "execution_count": 3,
   "id": "10849b02-560a-4f32-867b-0716368ac32d",
   "metadata": {},
   "outputs": [
    {
     "name": "stdout",
     "output_type": "stream",
     "text": [
      "Welcome to the magnificent and magical all-seeing computer.\n",
      "1:Ask a question\n",
      "2:Review questions and responses\n",
      "3:Complete services and pay\n"
     ]
    },
    {
     "name": "stdin",
     "output_type": "stream",
     "text": [
      "\n",
      "Ask what you seek to know(1, 2, or 3): 1\n",
      "What is your question?  Will my daughter sleep through the night tonight? \n"
     ]
    },
    {
     "name": "stdout",
     "output_type": "stream",
     "text": [
      "The all-seeing computer says: Reply is hazy; try again, with more money\n",
      "\n",
      "1:Ask a question\n",
      "2:Review questions and responses\n",
      "3:Complete services and pay\n"
     ]
    },
    {
     "name": "stdin",
     "output_type": "stream",
     "text": [
      "\n",
      "Ask what you seek to know(1, 2, or 3): 1\n",
      "What is your question?  Will my daughter sleep in her own bed tonight?\n"
     ]
    },
    {
     "name": "stdout",
     "output_type": "stream",
     "text": [
      "The all-seeing computer says: I am just a computer and cannot decide these things\n",
      "\n",
      "1:Ask a question\n",
      "2:Review questions and responses\n",
      "3:Complete services and pay\n"
     ]
    },
    {
     "name": "stdin",
     "output_type": "stream",
     "text": [
      "\n",
      "Ask what you seek to know(1, 2, or 3): 2\n"
     ]
    },
    {
     "name": "stdout",
     "output_type": "stream",
     "text": [
      "Question: Will my daughter sleep through the night tonight?  Response: Reply is hazy; try again, with more money\n",
      "Question: Will my daughter sleep in her own bed tonight? Response: I am just a computer and cannot decide these things\n",
      "1:Ask a question\n",
      "2:Review questions and responses\n",
      "3:Complete services and pay\n"
     ]
    },
    {
     "name": "stdin",
     "output_type": "stream",
     "text": [
      "\n",
      "Ask what you seek to know(1, 2, or 3): 1\n",
      "What is your question?  If I pay you extra money, can you work your computer magic to get my daughter to sleep through the night?\n"
     ]
    },
    {
     "name": "stdout",
     "output_type": "stream",
     "text": [
      "The all-seeing computer says: Concentrate and ask again\n",
      "\n",
      "1:Ask a question\n",
      "2:Review questions and responses\n",
      "3:Complete services and pay\n"
     ]
    },
    {
     "name": "stdin",
     "output_type": "stream",
     "text": [
      "\n",
      "Ask what you seek to know(1, 2, or 3): 1\n",
      "What is your question?  Ok,ok. If I pay you A LOT of extra money $$$$$$$ will you work your computer magic to get my daughter to sleep through the night?\n"
     ]
    },
    {
     "name": "stdout",
     "output_type": "stream",
     "text": [
      "The all-seeing computer says: Concentrate and ask again\n",
      "\n",
      "1:Ask a question\n",
      "2:Review questions and responses\n",
      "3:Complete services and pay\n"
     ]
    },
    {
     "name": "stdin",
     "output_type": "stream",
     "text": [
      "\n",
      "Ask what you seek to know(1, 2, or 3): 3\n"
     ]
    },
    {
     "name": "stdout",
     "output_type": "stream",
     "text": [
      "Thank you for visiting the magnificent and magical all-seeing computer.\n",
      "You asked 4 questions. You owe $120.0 for today's service.\n"
     ]
    }
   ],
   "source": [
    "# Welcome message\n",
    "print(\"Welcome to the magnificent and magical all-seeing computer.\")\n",
    "\n",
    "option_1 = \"Ask a question\"\n",
    "option_2 = \"Review questions and responses\"\n",
    "option_3 = \"Complete services and pay\" \n",
    "\n",
    "# Infinite loop for asking questions\n",
    "end_service = False\n",
    "\n",
    "while not end_service:\n",
    "    # Display question each time through loop \n",
    "    print(f\"1:{option_1}\")\n",
    "    print(f\"2:{option_2}\")\n",
    "    print(f\"3:{option_3}\")\n",
    "\n",
    "    # Get user input\n",
    "    user_input = input(\"\\nAsk what you seek to know(1, 2, or 3):\")\n",
    "    \n",
    "    if user_input == \"1\": \n",
    "        question = input(\"What is your question? \")\n",
    "        rand_a = rand.choice(fortune_responses)\n",
    "        \n",
    "        print(f\"The all-seeing computer says: {rand_a}\\n\")\n",
    "        questions.append(question)\n",
    "        responses.append(rand_a)\n",
    "        service_cost += 30.00\n",
    "    \n",
    "    elif user_input == \"2\":\n",
    "        i = 0\n",
    "        while i < len(questions):\n",
    "            print(f\"Question: {questions[i]} Response: {responses[i]}\")\n",
    "            i += 1 \n",
    "    \n",
    "    elif user_input == \"3\": \n",
    "        print(f\"Thank you for visiting the magnificent and magical all-seeing computer.\")\n",
    "        print(f\"You asked {len(questions)} questions. You owe ${service_cost} for today's service.\") \n",
    "        end_service = True \n",
    "\n",
    "    else:\n",
    "        print(\"Invalid option. Please enter 1, 2, or 3.\")"
   ]
  },
  {
   "cell_type": "markdown",
   "id": "953c3ec9-1ca5-41e5-841c-0687d9a83364",
   "metadata": {},
   "source": [
    "## References "
   ]
  },
  {
   "cell_type": "markdown",
   "id": "03ed1d9a-fe8c-443a-bf6d-7c73600f6574",
   "metadata": {},
   "source": [
    "# ChatGPT \n",
    "https://chatgpt.com/share/67eda05f-1b04-8012-9cb0-c2707999cfcb \n",
    ">> I like to create a draft code with aspects I know I'll need to have, then use A.I. to point out mistakes I made and elaborate on those concepts. A big less on this homework assignment was understanding how important the flow of the code is, which was a good reminder to think through how Python reads and thene executes code. \n",
    ">> I also get confused on assigning strings to a number that is input from a user, but not having that number be the variable. It finally clicked with me the peices I was misunderstanding.\n",
    ">> I used A.I. to walk me through setting up a while loop, with an end service condition, and to help me get the display options to populate each time. "
   ]
  },
  {
   "cell_type": "code",
   "execution_count": null,
   "id": "9054d3c9-c9e8-42d7-83f2-80e70db1daf8",
   "metadata": {},
   "outputs": [],
   "source": []
  }
 ],
 "metadata": {
  "kernelspec": {
   "display_name": "Python 3 (ipykernel)",
   "language": "python",
   "name": "python3"
  },
  "language_info": {
   "codemirror_mode": {
    "name": "ipython",
    "version": 3
   },
   "file_extension": ".py",
   "mimetype": "text/x-python",
   "name": "python",
   "nbconvert_exporter": "python",
   "pygments_lexer": "ipython3",
   "version": "3.12.7"
  }
 },
 "nbformat": 4,
 "nbformat_minor": 5
}
